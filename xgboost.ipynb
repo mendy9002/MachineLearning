{
 "cells": [
  {
   "cell_type": "code",
   "execution_count": 1,
   "metadata": {},
   "outputs": [],
   "source": [
    "import pandas as pd\n",
    "import seaborn as sns\n",
    "import matplotlib.pyplot as plt\n",
    "from sklearn.model_selection import train_test_split\n",
    "from sklearn.ensemble import RandomForestClassifier\n",
    "from sklearn.metrics import accuracy_score, confusion_matrix"
   ]
  },
  {
   "cell_type": "code",
   "execution_count": 2,
   "metadata": {},
   "outputs": [
    {
     "data": {
      "text/plain": [
       "(1599, 13)"
      ]
     },
     "execution_count": 2,
     "metadata": {},
     "output_type": "execute_result"
    }
   ],
   "source": [
    "df = pd.read_csv('./wineQualityReds.csv') #載入資料\n",
    "df.shape #顯示(rows,columns)數"
   ]
  },
  {
   "cell_type": "code",
   "execution_count": 3,
   "metadata": {},
   "outputs": [
    {
     "data": {
      "text/html": [
       "<div>\n",
       "<style scoped>\n",
       "    .dataframe tbody tr th:only-of-type {\n",
       "        vertical-align: middle;\n",
       "    }\n",
       "\n",
       "    .dataframe tbody tr th {\n",
       "        vertical-align: top;\n",
       "    }\n",
       "\n",
       "    .dataframe thead th {\n",
       "        text-align: right;\n",
       "    }\n",
       "</style>\n",
       "<table border=\"1\" class=\"dataframe\">\n",
       "  <thead>\n",
       "    <tr style=\"text-align: right;\">\n",
       "      <th></th>\n",
       "      <th>Unnamed: 0</th>\n",
       "      <th>fixed.acidity</th>\n",
       "      <th>volatile.acidity</th>\n",
       "      <th>citric.acid</th>\n",
       "      <th>residual.sugar</th>\n",
       "      <th>chlorides</th>\n",
       "      <th>free.sulfur.dioxide</th>\n",
       "      <th>total.sulfur.dioxide</th>\n",
       "      <th>density</th>\n",
       "      <th>pH</th>\n",
       "      <th>sulphates</th>\n",
       "      <th>alcohol</th>\n",
       "      <th>quality</th>\n",
       "    </tr>\n",
       "  </thead>\n",
       "  <tbody>\n",
       "    <tr>\n",
       "      <th>0</th>\n",
       "      <td>1</td>\n",
       "      <td>7.4</td>\n",
       "      <td>0.70</td>\n",
       "      <td>0.00</td>\n",
       "      <td>1.9</td>\n",
       "      <td>0.076</td>\n",
       "      <td>11.0</td>\n",
       "      <td>34.0</td>\n",
       "      <td>0.9978</td>\n",
       "      <td>3.51</td>\n",
       "      <td>0.56</td>\n",
       "      <td>9.4</td>\n",
       "      <td>5</td>\n",
       "    </tr>\n",
       "    <tr>\n",
       "      <th>1</th>\n",
       "      <td>2</td>\n",
       "      <td>7.8</td>\n",
       "      <td>0.88</td>\n",
       "      <td>0.00</td>\n",
       "      <td>2.6</td>\n",
       "      <td>0.098</td>\n",
       "      <td>25.0</td>\n",
       "      <td>67.0</td>\n",
       "      <td>0.9968</td>\n",
       "      <td>3.20</td>\n",
       "      <td>0.68</td>\n",
       "      <td>9.8</td>\n",
       "      <td>5</td>\n",
       "    </tr>\n",
       "    <tr>\n",
       "      <th>2</th>\n",
       "      <td>3</td>\n",
       "      <td>7.8</td>\n",
       "      <td>0.76</td>\n",
       "      <td>0.04</td>\n",
       "      <td>2.3</td>\n",
       "      <td>0.092</td>\n",
       "      <td>15.0</td>\n",
       "      <td>54.0</td>\n",
       "      <td>0.9970</td>\n",
       "      <td>3.26</td>\n",
       "      <td>0.65</td>\n",
       "      <td>9.8</td>\n",
       "      <td>5</td>\n",
       "    </tr>\n",
       "    <tr>\n",
       "      <th>3</th>\n",
       "      <td>4</td>\n",
       "      <td>11.2</td>\n",
       "      <td>0.28</td>\n",
       "      <td>0.56</td>\n",
       "      <td>1.9</td>\n",
       "      <td>0.075</td>\n",
       "      <td>17.0</td>\n",
       "      <td>60.0</td>\n",
       "      <td>0.9980</td>\n",
       "      <td>3.16</td>\n",
       "      <td>0.58</td>\n",
       "      <td>9.8</td>\n",
       "      <td>6</td>\n",
       "    </tr>\n",
       "    <tr>\n",
       "      <th>4</th>\n",
       "      <td>5</td>\n",
       "      <td>7.4</td>\n",
       "      <td>0.70</td>\n",
       "      <td>0.00</td>\n",
       "      <td>1.9</td>\n",
       "      <td>0.076</td>\n",
       "      <td>11.0</td>\n",
       "      <td>34.0</td>\n",
       "      <td>0.9978</td>\n",
       "      <td>3.51</td>\n",
       "      <td>0.56</td>\n",
       "      <td>9.4</td>\n",
       "      <td>5</td>\n",
       "    </tr>\n",
       "  </tbody>\n",
       "</table>\n",
       "</div>"
      ],
      "text/plain": [
       "   Unnamed: 0  fixed.acidity  volatile.acidity  citric.acid  residual.sugar  \\\n",
       "0           1            7.4              0.70         0.00             1.9   \n",
       "1           2            7.8              0.88         0.00             2.6   \n",
       "2           3            7.8              0.76         0.04             2.3   \n",
       "3           4           11.2              0.28         0.56             1.9   \n",
       "4           5            7.4              0.70         0.00             1.9   \n",
       "\n",
       "   chlorides  free.sulfur.dioxide  total.sulfur.dioxide  density    pH  \\\n",
       "0      0.076                 11.0                  34.0   0.9978  3.51   \n",
       "1      0.098                 25.0                  67.0   0.9968  3.20   \n",
       "2      0.092                 15.0                  54.0   0.9970  3.26   \n",
       "3      0.075                 17.0                  60.0   0.9980  3.16   \n",
       "4      0.076                 11.0                  34.0   0.9978  3.51   \n",
       "\n",
       "   sulphates  alcohol  quality  \n",
       "0       0.56      9.4        5  \n",
       "1       0.68      9.8        5  \n",
       "2       0.65      9.8        5  \n",
       "3       0.58      9.8        6  \n",
       "4       0.56      9.4        5  "
      ]
     },
     "execution_count": 3,
     "metadata": {},
     "output_type": "execute_result"
    }
   ],
   "source": [
    "df.head()"
   ]
  },
  {
   "cell_type": "code",
   "execution_count": 4,
   "metadata": {},
   "outputs": [],
   "source": [
    "numerics = ['int16', 'int32','int64', 'float16', 'float32', 'float64']\n",
    "numerical_features = list(df.select_dtypes(include=numerics).columns)"
   ]
  },
  {
   "cell_type": "code",
   "execution_count": 5,
   "metadata": {},
   "outputs": [],
   "source": [
    "data = df[numerical_features]"
   ]
  },
  {
   "cell_type": "code",
   "execution_count": 6,
   "metadata": {},
   "outputs": [
    {
     "data": {
      "text/plain": [
       "(1599, 11)"
      ]
     },
     "execution_count": 6,
     "metadata": {},
     "output_type": "execute_result"
    }
   ],
   "source": [
    "X = data.drop(['Unnamed: 0','quality'], axis=1) #刪除不需要的欄位\n",
    "X.shape"
   ]
  },
  {
   "cell_type": "code",
   "execution_count": 7,
   "metadata": {},
   "outputs": [
    {
     "data": {
      "text/plain": [
       "(1599,)"
      ]
     },
     "execution_count": 7,
     "metadata": {},
     "output_type": "execute_result"
    }
   ],
   "source": [
    "y = data['quality']\n",
    "y.shape"
   ]
  },
  {
   "cell_type": "code",
   "execution_count": 8,
   "metadata": {},
   "outputs": [
    {
     "name": "stdout",
     "output_type": "stream",
     "text": [
      "(1071, 11) (528, 11)\n"
     ]
    }
   ],
   "source": [
    "X_train, X_test, y_train, y_test = train_test_split(X, y, test_size=0.33, random_state=1729)\n",
    "print(X_train.shape, X_test.shape)"
   ]
  },
  {
   "cell_type": "code",
   "execution_count": 9,
   "metadata": {},
   "outputs": [],
   "source": [
    "import xgboost as xgb"
   ]
  },
  {
   "cell_type": "code",
   "execution_count": 10,
   "metadata": {},
   "outputs": [
    {
     "name": "stdout",
     "output_type": "stream",
     "text": [
      "[0]\tvalidation_0-merror:0.29972\tvalidation_1-merror:0.448864\n",
      "Multiple eval metrics have been passed: 'validation_1-merror' will be used for early stopping.\n",
      "\n",
      "Will train until validation_1-merror hasn't improved in 50 rounds.\n",
      "[1]\tvalidation_0-merror:0.235294\tvalidation_1-merror:0.409091\n",
      "[2]\tvalidation_0-merror:0.222222\tvalidation_1-merror:0.409091\n",
      "[3]\tvalidation_0-merror:0.194211\tvalidation_1-merror:0.405303\n",
      "[4]\tvalidation_0-merror:0.19141\tvalidation_1-merror:0.412879\n",
      "[5]\tvalidation_0-merror:0.180205\tvalidation_1-merror:0.401515\n",
      "[6]\tvalidation_0-merror:0.168067\tvalidation_1-merror:0.414773\n",
      "[7]\tvalidation_0-merror:0.15873\tvalidation_1-merror:0.390152\n",
      "[8]\tvalidation_0-merror:0.148459\tvalidation_1-merror:0.38447\n",
      "[9]\tvalidation_0-merror:0.142857\tvalidation_1-merror:0.378788\n",
      "[10]\tvalidation_0-merror:0.13352\tvalidation_1-merror:0.393939\n",
      "[11]\tvalidation_0-merror:0.13352\tvalidation_1-merror:0.386364\n",
      "[12]\tvalidation_0-merror:0.130719\tvalidation_1-merror:0.367424\n",
      "[13]\tvalidation_0-merror:0.126984\tvalidation_1-merror:0.36553\n",
      "[14]\tvalidation_0-merror:0.123249\tvalidation_1-merror:0.359848\n",
      "[15]\tvalidation_0-merror:0.119514\tvalidation_1-merror:0.359848\n",
      "[16]\tvalidation_0-merror:0.113912\tvalidation_1-merror:0.363636\n",
      "[17]\tvalidation_0-merror:0.114846\tvalidation_1-merror:0.354167\n",
      "[18]\tvalidation_0-merror:0.103641\tvalidation_1-merror:0.352273\n",
      "[19]\tvalidation_0-merror:0.096172\tvalidation_1-merror:0.356061\n",
      "[20]\tvalidation_0-merror:0.099907\tvalidation_1-merror:0.359848\n",
      "[21]\tvalidation_0-merror:0.096172\tvalidation_1-merror:0.354167\n",
      "[22]\tvalidation_0-merror:0.095238\tvalidation_1-merror:0.357955\n",
      "[23]\tvalidation_0-merror:0.09057\tvalidation_1-merror:0.348485\n",
      "[24]\tvalidation_0-merror:0.09057\tvalidation_1-merror:0.352273\n",
      "[25]\tvalidation_0-merror:0.085901\tvalidation_1-merror:0.354167\n",
      "[26]\tvalidation_0-merror:0.082166\tvalidation_1-merror:0.356061\n",
      "[27]\tvalidation_0-merror:0.078431\tvalidation_1-merror:0.356061\n",
      "[28]\tvalidation_0-merror:0.076564\tvalidation_1-merror:0.356061\n",
      "[29]\tvalidation_0-merror:0.073763\tvalidation_1-merror:0.350379\n",
      "[30]\tvalidation_0-merror:0.070962\tvalidation_1-merror:0.356061\n",
      "[31]\tvalidation_0-merror:0.068161\tvalidation_1-merror:0.346591\n",
      "[32]\tvalidation_0-merror:0.067227\tvalidation_1-merror:0.356061\n",
      "[33]\tvalidation_0-merror:0.068161\tvalidation_1-merror:0.350379\n",
      "[34]\tvalidation_0-merror:0.067227\tvalidation_1-merror:0.354167\n",
      "[35]\tvalidation_0-merror:0.061625\tvalidation_1-merror:0.359848\n",
      "[36]\tvalidation_0-merror:0.058824\tvalidation_1-merror:0.357955\n",
      "[37]\tvalidation_0-merror:0.05789\tvalidation_1-merror:0.359848\n",
      "[38]\tvalidation_0-merror:0.055089\tvalidation_1-merror:0.357955\n",
      "[39]\tvalidation_0-merror:0.055089\tvalidation_1-merror:0.361742\n",
      "[40]\tvalidation_0-merror:0.05042\tvalidation_1-merror:0.359848\n",
      "[41]\tvalidation_0-merror:0.049486\tvalidation_1-merror:0.354167\n",
      "[42]\tvalidation_0-merror:0.044818\tvalidation_1-merror:0.354167\n",
      "[43]\tvalidation_0-merror:0.042951\tvalidation_1-merror:0.356061\n",
      "[44]\tvalidation_0-merror:0.041083\tvalidation_1-merror:0.354167\n",
      "[45]\tvalidation_0-merror:0.040149\tvalidation_1-merror:0.348485\n",
      "[46]\tvalidation_0-merror:0.040149\tvalidation_1-merror:0.340909\n",
      "[47]\tvalidation_0-merror:0.037348\tvalidation_1-merror:0.342803\n",
      "[48]\tvalidation_0-merror:0.033613\tvalidation_1-merror:0.340909\n",
      "[49]\tvalidation_0-merror:0.03268\tvalidation_1-merror:0.340909\n",
      "[50]\tvalidation_0-merror:0.03268\tvalidation_1-merror:0.342803\n",
      "[51]\tvalidation_0-merror:0.028945\tvalidation_1-merror:0.344697\n",
      "[52]\tvalidation_0-merror:0.026144\tvalidation_1-merror:0.346591\n",
      "[53]\tvalidation_0-merror:0.023343\tvalidation_1-merror:0.342803\n",
      "[54]\tvalidation_0-merror:0.023343\tvalidation_1-merror:0.344697\n",
      "[55]\tvalidation_0-merror:0.024276\tvalidation_1-merror:0.346591\n",
      "[56]\tvalidation_0-merror:0.023343\tvalidation_1-merror:0.346591\n",
      "[57]\tvalidation_0-merror:0.022409\tvalidation_1-merror:0.348485\n",
      "[58]\tvalidation_0-merror:0.021475\tvalidation_1-merror:0.346591\n",
      "[59]\tvalidation_0-merror:0.019608\tvalidation_1-merror:0.350379\n",
      "[60]\tvalidation_0-merror:0.019608\tvalidation_1-merror:0.344697\n",
      "[61]\tvalidation_0-merror:0.019608\tvalidation_1-merror:0.342803\n",
      "[62]\tvalidation_0-merror:0.019608\tvalidation_1-merror:0.342803\n",
      "[63]\tvalidation_0-merror:0.01774\tvalidation_1-merror:0.342803\n",
      "[64]\tvalidation_0-merror:0.018674\tvalidation_1-merror:0.340909\n",
      "[65]\tvalidation_0-merror:0.013072\tvalidation_1-merror:0.339015\n",
      "[66]\tvalidation_0-merror:0.014006\tvalidation_1-merror:0.339015\n",
      "[67]\tvalidation_0-merror:0.013072\tvalidation_1-merror:0.337121\n",
      "[68]\tvalidation_0-merror:0.010271\tvalidation_1-merror:0.335227\n",
      "[69]\tvalidation_0-merror:0.010271\tvalidation_1-merror:0.339015\n",
      "[70]\tvalidation_0-merror:0.012138\tvalidation_1-merror:0.339015\n",
      "[71]\tvalidation_0-merror:0.00747\tvalidation_1-merror:0.333333\n",
      "[72]\tvalidation_0-merror:0.006536\tvalidation_1-merror:0.337121\n",
      "[73]\tvalidation_0-merror:0.005602\tvalidation_1-merror:0.331439\n",
      "[74]\tvalidation_0-merror:0.004669\tvalidation_1-merror:0.335227\n",
      "[75]\tvalidation_0-merror:0.004669\tvalidation_1-merror:0.339015\n",
      "[76]\tvalidation_0-merror:0.003735\tvalidation_1-merror:0.339015\n",
      "[77]\tvalidation_0-merror:0.004669\tvalidation_1-merror:0.339015\n",
      "[78]\tvalidation_0-merror:0.003735\tvalidation_1-merror:0.339015\n",
      "[79]\tvalidation_0-merror:0.003735\tvalidation_1-merror:0.337121\n",
      "[80]\tvalidation_0-merror:0.005602\tvalidation_1-merror:0.335227\n",
      "[81]\tvalidation_0-merror:0.003735\tvalidation_1-merror:0.339015\n",
      "[82]\tvalidation_0-merror:0.003735\tvalidation_1-merror:0.340909\n",
      "[83]\tvalidation_0-merror:0.003735\tvalidation_1-merror:0.339015\n",
      "[84]\tvalidation_0-merror:0.003735\tvalidation_1-merror:0.337121\n",
      "[85]\tvalidation_0-merror:0.003735\tvalidation_1-merror:0.339015\n",
      "[86]\tvalidation_0-merror:0.003735\tvalidation_1-merror:0.339015\n",
      "[87]\tvalidation_0-merror:0.003735\tvalidation_1-merror:0.339015\n",
      "[88]\tvalidation_0-merror:0.003735\tvalidation_1-merror:0.335227\n",
      "[89]\tvalidation_0-merror:0.003735\tvalidation_1-merror:0.335227\n",
      "[90]\tvalidation_0-merror:0.003735\tvalidation_1-merror:0.335227\n",
      "[91]\tvalidation_0-merror:0.002801\tvalidation_1-merror:0.335227\n",
      "[92]\tvalidation_0-merror:0.002801\tvalidation_1-merror:0.337121\n",
      "[93]\tvalidation_0-merror:0.002801\tvalidation_1-merror:0.339015\n",
      "[94]\tvalidation_0-merror:0.001867\tvalidation_1-merror:0.339015\n",
      "[95]\tvalidation_0-merror:0.001867\tvalidation_1-merror:0.337121\n",
      "[96]\tvalidation_0-merror:0.002801\tvalidation_1-merror:0.339015\n",
      "[97]\tvalidation_0-merror:0.000934\tvalidation_1-merror:0.339015\n",
      "[98]\tvalidation_0-merror:0.001867\tvalidation_1-merror:0.337121\n",
      "[99]\tvalidation_0-merror:0.001867\tvalidation_1-merror:0.335227\n"
     ]
    },
    {
     "data": {
      "text/plain": [
       "XGBClassifier(base_score=0.5, booster='gbtree', colsample_bylevel=1,\n",
       "       colsample_bynode=1, colsample_bytree=0.8, gamma=0,\n",
       "       learning_rate=0.1, max_delta_step=0, max_depth=10,\n",
       "       min_child_weight=1, missing=None, n_estimators=100, n_jobs=1,\n",
       "       nthread=-1, objective='multi:softprob', random_state=0, reg_alpha=0,\n",
       "       reg_lambda=1, scale_pos_weight=1, seed=1440, silent=True,\n",
       "       subsample=0.5, verbosity=1)"
      ]
     },
     "execution_count": 10,
     "metadata": {},
     "output_type": "execute_result"
    }
   ],
   "source": [
    "xlf = xgb.XGBClassifier(\n",
    "    max_depth=10, \n",
    "    learning_rate=0.1, \n",
    "    n_estimators=100, \n",
    "    silent=True,  \n",
    "    nthread=-1, \n",
    "    gamma=0,\n",
    "    min_child_weight=1, \n",
    "    max_delta_step=0, \n",
    "    subsample=0.5, \n",
    "    colsample_bytree=0.8, \n",
    "    colsample_bylevel=1, \n",
    "    reg_alpha=0, \n",
    "    reg_lambda=1, \n",
    "    scale_pos_weight=1, \n",
    "    seed=1440, \n",
    "    missing=None\n",
    ")\n",
    "xlf.fit(X_train, y_train, eval_set=[(X_train, y_train), (X_test, y_test)], early_stopping_rounds=50)"
   ]
  },
  {
   "cell_type": "code",
   "execution_count": 11,
   "metadata": {},
   "outputs": [],
   "source": [
    "# 計算 auc 分數、預測\n",
    "y_pred = xlf.predict(X_test)"
   ]
  },
  {
   "cell_type": "code",
   "execution_count": 12,
   "metadata": {},
   "outputs": [
    {
     "data": {
      "text/plain": [
       "array([5, 6, 5, 6, 5, 5, 5, 6, 6, 7, 6, 6, 6, 7, 6, 5, 5, 6, 6, 5, 5, 6,\n",
       "       6, 6, 6, 5, 6, 5, 5, 5, 6, 5, 5, 5, 6, 7, 5, 6, 5, 5, 7, 6, 5, 5,\n",
       "       6, 6, 5, 5, 5, 5, 6, 7, 5, 6, 5, 7, 6, 5, 5, 7, 6, 6, 6, 5, 6, 6,\n",
       "       5, 7, 6, 7, 6, 5, 6, 5, 6, 6, 5, 5, 5, 5, 5, 6, 7, 6, 6, 5, 6, 6,\n",
       "       5, 5, 5, 5, 6, 5, 6, 6, 6, 6, 6, 7, 5, 5, 6, 5, 7, 5, 5, 6, 6, 6,\n",
       "       6, 6, 6, 6, 6, 6, 5, 5, 6, 5, 6, 5, 6, 6, 6, 6, 5, 6, 6, 5, 5, 6,\n",
       "       5, 5, 6, 6, 5, 5, 7, 6, 5, 6, 5, 6, 5, 5, 6, 5, 5, 6, 7, 5, 7, 6,\n",
       "       5, 7, 5, 5, 7, 5, 6, 7, 6, 6, 6, 6, 5, 6, 6, 5, 6, 5, 5, 5, 5, 5,\n",
       "       6, 5, 5, 5, 4, 5, 5, 5, 5, 5, 5, 7, 5, 5, 6, 6, 5, 6, 6, 5, 5, 6,\n",
       "       5, 6, 6, 7, 5, 5, 5, 5, 5, 6, 5, 5, 6, 4, 6, 5, 5, 6, 5, 5, 7, 5,\n",
       "       6, 7, 6, 5, 6, 5, 5, 5, 6, 6, 6, 6, 5, 5, 6, 6, 5, 6, 5, 6, 5, 6,\n",
       "       6, 6, 5, 6, 6, 6, 7, 6, 6, 6, 5, 5, 6, 5, 5, 7, 5, 5, 5, 6, 5, 5,\n",
       "       5, 5, 5, 5, 5, 5, 7, 5, 6, 7, 5, 6, 6, 6, 6, 5, 6, 6, 5, 6, 5, 6,\n",
       "       5, 5, 5, 5, 6, 6, 6, 5, 6, 6, 6, 5, 5, 5, 6, 5, 6, 5, 5, 5, 5, 5,\n",
       "       6, 5, 5, 5, 6, 5, 5, 5, 7, 5, 6, 5, 5, 6, 5, 6, 5, 6, 6, 5, 5, 5,\n",
       "       6, 6, 5, 7, 5, 5, 5, 6, 6, 5, 6, 5, 5, 5, 5, 6, 5, 6, 6, 5, 6, 5,\n",
       "       6, 5, 7, 6, 6, 6, 5, 5, 6, 5, 5, 6, 5, 5, 6, 5, 5, 6, 6, 7, 5, 5,\n",
       "       5, 5, 5, 5, 6, 5, 5, 6, 7, 6, 6, 6, 6, 6, 5, 5, 4, 5, 6, 6, 5, 5,\n",
       "       6, 5, 6, 6, 5, 6, 5, 5, 6, 5, 6, 6, 7, 5, 5, 5, 6, 7, 5, 6, 7, 6,\n",
       "       6, 5, 5, 5, 6, 5, 5, 5, 6, 6, 6, 6, 5, 6, 5, 6, 5, 6, 6, 6, 6, 6,\n",
       "       5, 6, 5, 7, 6, 5, 5, 7, 7, 6, 6, 6, 5, 5, 6, 5, 5, 5, 6, 5, 6, 5,\n",
       "       5, 6, 7, 6, 5, 5, 5, 6, 5, 6, 6, 5, 6, 7, 7, 6, 6, 5, 6, 5, 6, 6,\n",
       "       6, 5, 6, 6, 5, 5, 5, 7, 5, 6, 5, 6, 5, 6, 5, 5, 5, 6, 5, 6, 5, 6,\n",
       "       6, 6, 6, 5, 6, 6, 5, 5, 5, 5, 5, 6, 5, 6, 5, 5, 5, 6, 6, 6, 5, 7],\n",
       "      dtype=int64)"
      ]
     },
     "execution_count": 12,
     "metadata": {},
     "output_type": "execute_result"
    }
   ],
   "source": [
    "y_pred"
   ]
  },
  {
   "cell_type": "code",
   "execution_count": 13,
   "metadata": {},
   "outputs": [],
   "source": [
    "predictions = [round(value) for value in y_pred]"
   ]
  },
  {
   "cell_type": "code",
   "execution_count": 14,
   "metadata": {},
   "outputs": [
    {
     "name": "stdout",
     "output_type": "stream",
     "text": [
      "Accuracy: 66.86%\n"
     ]
    }
   ],
   "source": [
    "accuracy = accuracy_score(y_test, predictions)\n",
    "print(\"Accuracy: %.2f%%\" % (accuracy * 100.0))"
   ]
  },
  {
   "cell_type": "code",
   "execution_count": null,
   "metadata": {},
   "outputs": [],
   "source": []
  },
  {
   "cell_type": "code",
   "execution_count": 15,
   "metadata": {},
   "outputs": [],
   "source": [
    "from sklearn.model_selection import GridSearchCV"
   ]
  },
  {
   "cell_type": "code",
   "execution_count": 16,
   "metadata": {},
   "outputs": [
    {
     "name": "stderr",
     "output_type": "stream",
     "text": [
      "C:\\Users\\USER\\Anaconda3\\lib\\site-packages\\sklearn\\model_selection\\_split.py:2053: FutureWarning: You should specify a value for 'cv' instead of relying on the default value. The default value will change from 3 to 5 in version 0.22.\n",
      "  warnings.warn(CV_WARNING, FutureWarning)\n",
      "C:\\Users\\USER\\Anaconda3\\lib\\site-packages\\sklearn\\model_selection\\_search.py:841: DeprecationWarning: The default of the `iid` parameter will change from True to False in version 0.22 and will be removed in 0.24. This will change numeric results when test-set sizes are unequal.\n",
      "  DeprecationWarning)\n"
     ]
    },
    {
     "name": "stdout",
     "output_type": "stream",
     "text": [
      "Best parameters found by grid search are: {'colsample_bylevel': 1, 'colsample_bytree': 0.8, 'learning_rate': 0.1, 'n_estimators': 100, 'subsample': 0.5}\n"
     ]
    }
   ],
   "source": [
    "estimator = xgb.XGBClassifier(\n",
    "    max_depth=10,  \n",
    "    n_estimators=10, \n",
    "    silent=True,  \n",
    "    nthread=-1, \n",
    "    gamma=0,\n",
    "    min_child_weight=1, \n",
    "    max_delta_step=0, \n",
    "    subsample=0.85,  \n",
    "    colsample_bylevel=1, \n",
    "    reg_alpha=0, \n",
    "    reg_lambda=1, \n",
    "    scale_pos_weight=1, \n",
    "    seed=1440, \n",
    "    missing=None\n",
    ") \n",
    "param_grid = {\n",
    "    'learning_rate': [0.01, 0.05, 0.1, 0.5, 1], \n",
    "    'n_estimators': [20, 40, 100],\n",
    "    'subsample':[0.5, 0.8],\n",
    "    'colsample_bytree':[0.5, 0.8],\n",
    "    'colsample_bylevel':[0.5, 0.8, 1]\n",
    "    } \n",
    "xgb = GridSearchCV(estimator, param_grid) \n",
    "xgb.fit(X_train, y_train) \n",
    "print('Best parameters found by grid search are:', xgb.best_params_)"
   ]
  },
  {
   "cell_type": "code",
   "execution_count": null,
   "metadata": {},
   "outputs": [],
   "source": []
  }
 ],
 "metadata": {
  "kernelspec": {
   "display_name": "Python 3",
   "language": "python",
   "name": "python3"
  },
  "language_info": {
   "codemirror_mode": {
    "name": "ipython",
    "version": 3
   },
   "file_extension": ".py",
   "mimetype": "text/x-python",
   "name": "python",
   "nbconvert_exporter": "python",
   "pygments_lexer": "ipython3",
   "version": "3.7.3"
  }
 },
 "nbformat": 4,
 "nbformat_minor": 2
}
